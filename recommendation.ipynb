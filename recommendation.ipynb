{
  "nbformat": 4,
  "nbformat_minor": 0,
  "metadata": {
    "colab": {
      "provenance": [],
      "authorship_tag": "ABX9TyMbyHLi6OLnd7lUswqYgjk5",
      "include_colab_link": true
    },
    "kernelspec": {
      "name": "python3",
      "display_name": "Python 3"
    },
    "language_info": {
      "name": "python"
    }
  },
  "cells": [
    {
      "cell_type": "markdown",
      "metadata": {
        "id": "view-in-github",
        "colab_type": "text"
      },
      "source": [
        "<a href=\"https://colab.research.google.com/github/LakshyaV/product-rec/blob/main/recommendation.ipynb\" target=\"_parent\"><img src=\"https://colab.research.google.com/assets/colab-badge.svg\" alt=\"Open In Colab\"/></a>"
      ]
    },
    {
      "cell_type": "markdown",
      "source": [
        "**Dependencies**"
      ],
      "metadata": {
        "id": "LMI1S0JxSI5W"
      }
    },
    {
      "cell_type": "code",
      "execution_count": null,
      "metadata": {
        "id": "s3UH2gLGQyZD"
      },
      "outputs": [],
      "source": [
        "import pandas as pd\n",
        "import re\n",
        "from nltk.tokenize import word_tokenize\n",
        "import numpy as np\n",
        "import tensorflow as tf\n",
        "\n",
        "from gensim.models import Word2Vec\n",
        "from mlxtend.frequent_patterns import fpgrowth, association_rules\n",
        "from mlxtend.preprocessing import TransactionEncoder\n",
        "from sklearn.model_selection import train_test_split\n",
        "from tensorflow.keras.models import Sequential\n",
        "from tensorflow.keras.layers import Dense, Embedding, Flatten, Input"
      ]
    },
    {
      "cell_type": "markdown",
      "source": [
        "**Word2Vec Model**"
      ],
      "metadata": {
        "id": "bgZrEHRySjKD"
      }
    },
    {
      "cell_type": "code",
      "source": [
        "costco_df = pd.read_csv(\"costco_items_unique.csv\")"
      ],
      "metadata": {
        "id": "Q_vaL4tDS7uQ"
      },
      "execution_count": null,
      "outputs": []
    },
    {
      "cell_type": "code",
      "source": [
        "stopwords = set([\n",
        "    'i', 'me', 'my', 'myself', 'we', 'our', 'ours', 'ourselves', 'you', 'your', 'yours',\n",
        "    'yourself', 'yourselves', 'he', 'him', 'his', 'himself', 'she', 'her', 'hers', 'herself',\n",
        "    'it', 'its', 'itself', 'they', 'them', 'their', 'theirs', 'themselves', 'what', 'which',\n",
        "    'who', 'whom', 'this', 'that', 'these', 'those', 'am', 'is', 'are', 'was', 'were', 'be',\n",
        "    'been', 'being', 'have', 'has', 'had', 'having', 'do', 'does', 'did', 'doing', 'a', 'an',\n",
        "    'the', 'and', 'but', 'if', 'or', 'because', 'as', 'until', 'while', 'of', 'at', 'by', 'for',\n",
        "    'with', 'about', 'against', 'between', 'into', 'through', 'during', 'before', 'after',\n",
        "    'above', 'below', 'to', 'from', 'up', 'down', 'in', 'out', 'on', 'off', 'over', 'under',\n",
        "    'again', 'further', 'then', 'once', 'here', 'there', 'when', 'where', 'why', 'how', 'all',\n",
        "    'any', 'both', 'each', 'few', 'more', 'most', 'other', 'some', 'such', 'no', 'nor', 'not',\n",
        "    'only', 'own', 'same', 'so', 'than', 'too', 'very', 's', 't', 'can', 'will', 'just',\n",
        "    'don', 'should', 'now'\n",
        "])"
      ],
      "metadata": {
        "id": "5sMwjAsZSOpO"
      },
      "execution_count": null,
      "outputs": []
    },
    {
      "cell_type": "code",
      "source": [
        "def prepocess_dataset(text):\n",
        "  text = text.lower()\n",
        "  text = re.sub(r'[^\\w\\s]', '', text)\n",
        "  tokens = [word for word in text.split() if word not in stopwords]\n",
        "  return tokens\n",
        "\n",
        "costco_df['New'] = costco_df['Item Name'].astype(str) + ' ' + costco_df['Item Description'].astype(str) + ' ' + costco_df['Category'].astype(str) + ' ' + costco_df['Price'].astype(str)\n",
        "costco_df['Processed Description'] = costco_df['New'].apply(prepocess_dataset)"
      ],
      "metadata": {
        "id": "SoWxujY2StBH"
      },
      "execution_count": null,
      "outputs": []
    },
    {
      "cell_type": "code",
      "source": [
        "sentences = costco_df['Processed Description'].tolist()\n",
        "model = Word2Vec(sentences, vector_size=100, window=5, min_count=1, workers=4)"
      ],
      "metadata": {
        "id": "89D2wiQZVTo1"
      },
      "execution_count": null,
      "outputs": []
    },
    {
      "cell_type": "code",
      "source": [
        "def similar_items(item_name, top_n=2):\n",
        "    item_index = costco_df[costco_df['Item Name'] == item_name].index[0]\n",
        "    item_vector = model.wv[model.wv.index_to_key[item_index]]\n",
        "    similar_items = model.wv.similar_by_vector(item_vector, topn=top_n)\n",
        "    similar_item_names = [costco_df.iloc[model.wv.key_to_index[item]].loc['Item Name'] for item, _ in similar_items]\n",
        "    return similar_item_names"
      ],
      "metadata": {
        "id": "YFvGEax1VYcj"
      },
      "execution_count": null,
      "outputs": []
    },
    {
      "cell_type": "code",
      "source": [
        "similar_items_list = similar_items(\"Gerber Organic Baby Food #3856\")\n",
        "print(similar_items_list[1])"
      ],
      "metadata": {
        "id": "IrXnbk7LVh5P"
      },
      "execution_count": null,
      "outputs": []
    },
    {
      "cell_type": "markdown",
      "source": [
        "**FP-Growth Model**"
      ],
      "metadata": {
        "id": "3kaIfPY1XXO2"
      }
    },
    {
      "cell_type": "code",
      "source": [
        "df_itemsets = pd.read_csv(\"costco_transactions_with_descriptions.csv\")\n",
        "transactions = df_itemsets.groupby('Transaction ID')['Item Name'].apply(list).tolist()"
      ],
      "metadata": {
        "id": "GY8j-c3AVjek"
      },
      "execution_count": null,
      "outputs": []
    },
    {
      "cell_type": "code",
      "source": [
        "te = TransactionEncoder()\n",
        "te_ary = te.fit(transactions).transform(transactions)\n",
        "df_encoded = pd.DataFrame(te_ary, columns=te.columns_)\n",
        "\n",
        "frequent_itemsets = fpgrowth(df_encoded, min_support=0.01, use_colnames=True)\n",
        "rules = association_rules(frequent_itemsets, metric=\"lift\", min_threshold=1)"
      ],
      "metadata": {
        "id": "zuHhNslIV0RY"
      },
      "execution_count": null,
      "outputs": []
    },
    {
      "cell_type": "code",
      "source": [
        "def get_recommendations(cart_items, frequent_itemsets, rules):\n",
        "    cart_df = pd.DataFrame([cart_items])\n",
        "    cart_encoded = cart_df[cart_df.columns[cart_df.columns.isin(cart_items)]]\n",
        "    cart_encoded = cart_encoded.fillna(0)\n",
        "\n",
        "    itemsets = frequent_itemsets[frequent_itemsets['itemsets'].apply(lambda x: set(cart_items).issubset(x))]\n",
        "\n",
        "    recommendations = []\n",
        "    for itemset in itemsets['itemsets']:\n",
        "        associated_items = rules[rules['antecedents'] == frozenset(itemset)]\n",
        "        recommendations.extend(associated_items['consequents'])\n",
        "\n",
        "    return set(recommendations) - set(cart_items)"
      ],
      "metadata": {
        "id": "gVir326AV4n8"
      },
      "execution_count": null,
      "outputs": []
    },
    {
      "cell_type": "code",
      "source": [
        "cart_items = ['Organic Blueberries', 'Organic Strawberries']\n",
        "print(get_recommendations(cart_items, frequent_itemsets, rules))"
      ],
      "metadata": {
        "id": "sos-E1RDV75P"
      },
      "execution_count": null,
      "outputs": []
    },
    {
      "cell_type": "markdown",
      "source": [
        "**LSTM Model**"
      ],
      "metadata": {
        "id": "N66oIcR6yePW"
      }
    },
    {
      "cell_type": "code",
      "source": [
        "purchase_df = pd.read_csv(\"past.csv\")"
      ],
      "metadata": {
        "id": "hQ4F3xvcwJs4"
      },
      "execution_count": null,
      "outputs": []
    },
    {
      "cell_type": "code",
      "source": [
        "purchase_df['Date'] = pd.to_datetime(purchase_df['Date'])"
      ],
      "metadata": {
        "id": "p1EhxRwBxG_u"
      },
      "execution_count": null,
      "outputs": []
    },
    {
      "cell_type": "code",
      "source": [
        "purchase_df = purchase_df.sort_values(by='Date')"
      ],
      "metadata": {
        "id": "1gDX19HOxJFm"
      },
      "execution_count": null,
      "outputs": []
    },
    {
      "cell_type": "code",
      "source": [
        "item_dict = {item: i for i, item in enumerate(purchase_df['Product Name'].unique())}\n",
        "purchase_df['Product Name'] = purchase_df['Product Name'].map(item_dict)"
      ],
      "metadata": {
        "id": "EV52O96MxNhB"
      },
      "execution_count": null,
      "outputs": []
    },
    {
      "cell_type": "code",
      "source": [
        "purchase_sequence = purchase_df['Product Name'].tolist()"
      ],
      "metadata": {
        "id": "nVD3u7iDxO7P"
      },
      "execution_count": null,
      "outputs": []
    },
    {
      "cell_type": "code",
      "source": [
        "from tensorflow.keras.preprocessing.sequence import pad_sequences\n",
        "max_sequence_length = 50\n",
        "padded_sequence = pad_sequences([purchase_sequence], maxlen=max_sequence_length, padding='post')[0]"
      ],
      "metadata": {
        "id": "6R753mRWxQbK"
      },
      "execution_count": null,
      "outputs": []
    },
    {
      "cell_type": "code",
      "source": [
        "X = []\n",
        "y = []\n",
        "sequence_length = max_sequence_length - 1\n",
        "\n",
        "for i in range(len(padded_sequence) - sequence_length):\n",
        "    X.append(padded_sequence[i:i+sequence_length])\n",
        "    y.append(padded_sequence[i+sequence_length])\n",
        "\n",
        "X = np.array(X)\n",
        "y = np.array(y)\n",
        "\n",
        "num_items = len(item_dict)\n",
        "y = np.eye(num_items)[y]"
      ],
      "metadata": {
        "id": "pidrd43ixSBB"
      },
      "execution_count": null,
      "outputs": []
    },
    {
      "cell_type": "code",
      "source": [
        "if len(X) < 2:\n",
        "    X_train, y_train = X, y\n",
        "    X_val, y_val = X, y\n",
        "else:\n",
        "    split_index = int(0.8 * len(X))\n",
        "    X_train, X_val = X[:split_index], X[split_index:]\n",
        "    y_train, y_val = y[:split_index], y[split_index:]\n"
      ],
      "metadata": {
        "id": "AJ2W_SNbxX4v"
      },
      "execution_count": null,
      "outputs": []
    },
    {
      "cell_type": "code",
      "source": [
        "from tensorflow.keras.models import Sequential\n",
        "from tensorflow.keras.layers import LSTM, Dense, Embedding\n",
        "\n",
        "model = Sequential([\n",
        "    Embedding(input_dim=num_items, output_dim=50, input_length=sequence_length),\n",
        "    LSTM(100, return_sequences=False),\n",
        "    Dense(num_items, activation='softmax')\n",
        "])\n",
        "\n",
        "model.compile(optimizer='adam', loss='categorical_crossentropy', metrics=['accuracy'])\n",
        "\n",
        "history = model.fit(X_train, y_train, epochs=10, batch_size=32, validation_data=(X_val, y_val))"
      ],
      "metadata": {
        "id": "tykKrDRWxc_E"
      },
      "execution_count": null,
      "outputs": []
    },
    {
      "cell_type": "code",
      "source": [
        "def get_lstm_recommendations(model, input_sequence, item_dict, top_n=5):\n",
        "    input_sequence = np.array(input_sequence).reshape(1, -1)\n",
        "    predictions = model.predict(input_sequence)\n",
        "    predicted_items = np.argsort(predictions[0])[-top_n:]\n",
        "    reverse_item_dict = {v: k for k, v in item_dict.items()}\n",
        "    return [reverse_item_dict[i] for i in predicted_items]\n",
        "\n",
        "test_sequence = padded_sequence[-5:]\n",
        "recommendations = get_lstm_recommendations(model, test_sequence, item_dict)\n",
        "print(f'Recommendations: {recommendations}')"
      ],
      "metadata": {
        "id": "VT00Crh_xhTn"
      },
      "execution_count": null,
      "outputs": []
    },
    {
      "cell_type": "markdown",
      "source": [
        "**Neural Collaborative Filtering**"
      ],
      "metadata": {
        "id": "iMjlgnIkxtSn"
      }
    },
    {
      "cell_type": "code",
      "source": [
        "df = pd.read_csv('past.csv')"
      ],
      "metadata": {
        "id": "23OCtGGTxuyf"
      },
      "execution_count": null,
      "outputs": []
    },
    {
      "cell_type": "code",
      "source": [
        "from sklearn.preprocessing import LabelEncoder\n",
        "\n",
        "product_encoder = LabelEncoder()\n",
        "store_encoder = LabelEncoder()\n",
        "\n",
        "df['Product Name'] = product_encoder.fit_transform(df['Product Name'])\n",
        "df['Store'] = store_encoder.fit_transform(df['Store'])"
      ],
      "metadata": {
        "id": "tItE5llBxvxM"
      },
      "execution_count": null,
      "outputs": []
    },
    {
      "cell_type": "code",
      "source": [
        "interaction_matrix = pd.pivot_table(df, index='Product Name', columns='Store', values='Price', fill_value=0)\n",
        "user_item_matrix = interaction_matrix.values"
      ],
      "metadata": {
        "id": "l2wSPukIxxwN"
      },
      "execution_count": null,
      "outputs": []
    },
    {
      "cell_type": "code",
      "source": [
        "X_train, X_test = train_test_split(user_item_matrix, test_size=0.2, random_state=42)"
      ],
      "metadata": {
        "id": "5gPg3mj1x4OE"
      },
      "execution_count": null,
      "outputs": []
    },
    {
      "cell_type": "code",
      "source": [
        "model = Sequential([\n",
        "    Input(shape=(user_item_matrix.shape[1],)),\n",
        "    Dense(128, activation='relu'),\n",
        "    Dense(64, activation='relu'),\n",
        "    Dense(user_item_matrix.shape[1], activation='sigmoid')  # Output layer\n",
        "])\n",
        "\n",
        "model.compile(optimizer='adam', loss='binary_crossentropy')"
      ],
      "metadata": {
        "id": "wEBDkIJNx5-n"
      },
      "execution_count": null,
      "outputs": []
    },
    {
      "cell_type": "code",
      "source": [
        "historyTwo = model.fit(X_train, X_train, epochs=10, batch_size=32, validation_split=0.2)"
      ],
      "metadata": {
        "id": "O_ljts6ByAZV"
      },
      "execution_count": null,
      "outputs": []
    },
    {
      "cell_type": "code",
      "source": [
        "predictionsTwo = model.predict(user_item_matrix)"
      ],
      "metadata": {
        "id": "e10LLyWByDZy"
      },
      "execution_count": null,
      "outputs": []
    },
    {
      "cell_type": "code",
      "source": [
        "def recommend_items(predictions, top_n=10):\n",
        "    user_predictions = predictions[0]\n",
        "    top_indices = np.argsort(user_predictions)[::-1][:top_n]\n",
        "    return top_indices"
      ],
      "metadata": {
        "id": "Ks8sbNUvyGSa"
      },
      "execution_count": null,
      "outputs": []
    },
    {
      "cell_type": "code",
      "source": [
        "def index_to_product_name(indices, encoder):\n",
        "    return encoder.inverse_transform(indices)"
      ],
      "metadata": {
        "id": "ulUhVBiyyIsV"
      },
      "execution_count": null,
      "outputs": []
    },
    {
      "cell_type": "code",
      "source": [
        "top_n = 1\n",
        "top_indices = recommend_items(predictionsTwo, top_n)\n",
        "\n",
        "recommended_product_names = index_to_product_name(top_indices, product_encoder)\n",
        "\n",
        "for product in recommended_product_names:\n",
        "    print(product)"
      ],
      "metadata": {
        "id": "UesVGgIeyKV_"
      },
      "execution_count": null,
      "outputs": []
    }
  ]
}